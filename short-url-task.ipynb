{
 "cells": [
  {
   "cell_type": "code",
   "execution_count": 0,
   "metadata": {
    "application/vnd.databricks.v1+cell": {
     "cellMetadata": {
      "byteLimit": 2048000,
      "rowLimit": 10000
     },
     "inputWidgets": {},
     "nuid": "251b2a05-8ca3-43fd-979b-4c63001a4df3",
     "showTitle": false,
     "tableResultSettingsMap": {},
     "title": ""
    }
   },
   "outputs": [],
   "source": [
    "import pandas as pd\n",
    "import requests\n",
    "import time\n",
    "\n",
    "df1 = pd.read_csv(\"/dbfs/FileStore/shared_uploads/tyler.pooley@defra.gov.uk/url_shorten_latest.csv\")\n",
    "\n",
    "df1['short_urls']=''\n",
    "df1\n",
    "\n",
    "#df1 = df1[:100]\n",
    "\n",
    "for i, row in df1.iterrows():\n",
    "  url = row['Link']\n",
    "  try:\n",
    "      response = requests.get(f'https://tinyurl.com/api-create.php?url={url}')\n",
    "      if response.status_code==200:\n",
    "          df1.at[i,'short_urls'] = response.text\n",
    "      else:\n",
    "          print(f\"Failed to shorten URL at row {i}: {url} (Status code: {response.status_code})\")\n",
    "  except requests.exceptions.RequestException as e:\n",
    "      print(f\"Request failed at row {i}: {url} ({e})\")\n",
    "    \n",
    "  time.sleep(1)  # Delay for 1 second before the next request"
   ]
  },
  {
   "cell_type": "code",
   "execution_count": 0,
   "metadata": {
    "application/vnd.databricks.v1+cell": {
     "cellMetadata": {
      "byteLimit": 2048000,
      "rowLimit": 10000
     },
     "inputWidgets": {},
     "nuid": "333d160a-933e-49ec-91b0-9c3d4d31fd63",
     "showTitle": false,
     "tableResultSettingsMap": {},
     "title": ""
    }
   },
   "outputs": [],
   "source": [
    "df1.to_csv('/Workspace/Users/tyler.pooley@defra.gov.uk/url_shorten_latest_output_test.csv')"
   ]
  }
 ],
 "metadata": {
  "application/vnd.databricks.v1+notebook": {
   "computePreferences": null,
   "dashboards": [],
   "environmentMetadata": {
    "base_environment": "",
    "environment_version": "2"
   },
   "inputWidgetPreferences": null,
   "language": "python",
   "notebookMetadata": {
    "pythonIndentUnit": 4
   },
   "notebookName": "short-url-task",
   "widgets": {}
  },
  "language_info": {
   "name": "python"
  }
 },
 "nbformat": 4,
 "nbformat_minor": 0
}
